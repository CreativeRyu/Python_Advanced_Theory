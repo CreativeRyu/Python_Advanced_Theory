{
 "cells": [
  {
   "attachments": {},
   "cell_type": "markdown",
   "metadata": {},
   "source": [
    "## **List Comprehensions**"
   ]
  },
  {
   "cell_type": "code",
   "execution_count": 48,
   "metadata": {},
   "outputs": [
    {
     "name": "stdout",
     "output_type": "stream",
     "text": [
      "[2, 4, 6, 8, 10, 12, 14, 16, 18, 20]\n"
     ]
    }
   ],
   "source": [
    "# eine Liste soll mit den Werten 2 bis 20 in zweier Schritten befüllt werden\n",
    "\n",
    "my_list = []\n",
    "for x in range(2,21,2):\n",
    "    my_list.append(x)\n",
    "\n",
    "print(my_list)\n",
    "\n",
    "# -> my_list = [x for x in range(2,21,2)]"
   ]
  },
  {
   "cell_type": "code",
   "execution_count": null,
   "metadata": {},
   "outputs": [],
   "source": [
    "name = \"Martin\"\n",
    "# print(list(name))\n",
    "name_list = [letter for letter in name]\n",
    "\n",
    "print(name_list)"
   ]
  },
  {
   "attachments": {},
   "cell_type": "markdown",
   "metadata": {},
   "source": [
    "#### **Aufgabe 1**\n",
    "Erstellen Sie eine Liste mit quadrierten Zahlen aus der Liste \"numbers\" und verwenden Sie dabei List Comprehensions."
   ]
  },
  {
   "cell_type": "code",
   "execution_count": 49,
   "metadata": {},
   "outputs": [
    {
     "name": "stdout",
     "output_type": "stream",
     "text": [
      "[1, 1, 4, 9, 25, 64, 169, 441, 1156, 3025]\n"
     ]
    }
   ],
   "source": [
    "numbers = [1, 1, 2, 3, 5, 8, 13, 21, 34, 55]\n",
    "# 🚨 Ändern Sie nicht diese Liste 👆\n",
    "\n",
    "# Schreiben Sie Ihre Zeile Code hier drunter👇:\n",
    "\n",
    "\n",
    "\n",
    "# Write your code 👆 above:\n",
    "\n",
    "print(squared_numbers)"
   ]
  },
  {
   "attachments": {},
   "cell_type": "markdown",
   "metadata": {},
   "source": [
    "#### **Lösung 1**"
   ]
  },
  {
   "cell_type": "code",
   "execution_count": 50,
   "metadata": {},
   "outputs": [
    {
     "name": "stdout",
     "output_type": "stream",
     "text": [
      "[1, 1, 4, 9, 25, 64, 169, 441, 1156, 3025]\n"
     ]
    }
   ],
   "source": [
    "numbers = [1, 1, 2, 3, 5, 8, 13, 21, 34, 55]\n",
    "\n",
    "squared_numbers = [x**2 for x in numbers]\n",
    "\n",
    "print(squared_numbers)"
   ]
  },
  {
   "attachments": {},
   "cell_type": "markdown",
   "metadata": {},
   "source": [
    "#### **Aufgabe 2**\n",
    "Erstellen Sie eine Liste in der nur die geraden Zahlen aus der Liste \"numbers\" übernommen werden."
   ]
  },
  {
   "cell_type": "code",
   "execution_count": 51,
   "metadata": {},
   "outputs": [
    {
     "name": "stdout",
     "output_type": "stream",
     "text": [
      "[2, 8, 34]\n"
     ]
    }
   ],
   "source": [
    "numbers = [1, 1, 2, 3, 5, 8, 13, 21, 34, 55]\n",
    "# 🚨 Do Not Change the code above\n",
    "\n",
    "#Write your 1 line code 👇 below:\n",
    "\n",
    "\n",
    "\n",
    "#Write your code 👆 above:\n",
    "\n",
    "print(result)"
   ]
  },
  {
   "attachments": {},
   "cell_type": "markdown",
   "metadata": {},
   "source": [
    "#### **Lösung 2**"
   ]
  },
  {
   "cell_type": "code",
   "execution_count": 52,
   "metadata": {},
   "outputs": [
    {
     "name": "stdout",
     "output_type": "stream",
     "text": [
      "[2, 8, 34]\n"
     ]
    }
   ],
   "source": [
    "numbers = [1, 1, 2, 3, 5, 8, 13, 21, 34, 55]\n",
    "# 🚨 Do Not Change the code above\n",
    "\n",
    "#Write your 1 line code 👇 below:\n",
    "\n",
    "result = [n for n in numbers if n % 2 == 0]\n",
    "\n",
    "#Write your code 👆 above:\n",
    "\n",
    "print(result)"
   ]
  },
  {
   "attachments": {},
   "cell_type": "markdown",
   "metadata": {},
   "source": [
    "#### **Aufgabe 3**\n",
    "Vergleichen Sie die beiden txt Files miteinander und erstellen Sie mit einer List Comprehension eine neue Liste, in der nur die Zahlen enthalten sind, die in beiden txt Files existieren."
   ]
  },
  {
   "cell_type": "code",
   "execution_count": null,
   "metadata": {},
   "outputs": [],
   "source": [
    "\n",
    "# Write your code above 👆\n",
    "\n",
    "print(result)"
   ]
  },
  {
   "attachments": {},
   "cell_type": "markdown",
   "metadata": {},
   "source": [
    "#### **Lösung 3**"
   ]
  },
  {
   "cell_type": "code",
   "execution_count": 60,
   "metadata": {},
   "outputs": [
    {
     "name": "stdout",
     "output_type": "stream",
     "text": [
      "['3\\n', '6\\n', '5\\n', '8\\n', '33\\n', '12\\n', '7\\n', '4\\n', '72\\n', '2\\n', '42\\n', '13\\n']\n",
      "['3\\n', '6\\n', '13\\n', '5\\n', '7\\n', '89\\n', '12\\n', '3\\n', '33\\n', '34\\n', '1\\n', '344\\n', '42\\n']\n",
      "[3, 6, 5, 33, 12, 7, 42, 13]\n"
     ]
    }
   ],
   "source": [
    "with open(\"./file1.txt\") as file1:\n",
    "    file1_list = file1.readlines()\n",
    "    \n",
    "with open(\"./file2.txt\") as file2:\n",
    "    file2_list = file2.readlines()\n",
    "\n",
    "print(file1_list)\n",
    "print(file2_list)\n",
    "result = [int(num) for num in file1_list if num in file2_list]\n",
    "# Write your code above 👆\n",
    "\n",
    "print(result)"
   ]
  },
  {
   "cell_type": "code",
   "execution_count": 2,
   "metadata": {},
   "outputs": [
    {
     "name": "stdout",
     "output_type": "stream",
     "text": [
      "[1, 2, 4, 8, 16, 32, 64, 128, 256, 512]\n",
      "[1, 2, 4, 8, 16, 32, 64, 128, 256, 512]\n",
      "[1, 4, 9, 16, 25, 36, 49, 64, 81]\n"
     ]
    }
   ],
   "source": [
    "# Liste soll mit den Quadraten der im Range angegebenen Zahl befüllt werden\n",
    "meine_liste = []\n",
    "for x in range(10):\n",
    "    meine_liste.append(2**x)\n",
    "\n",
    "print(meine_liste)\n",
    "# # # # # # # # # # # # # # # #\n",
    "# als List Comprehension\n",
    "squared_list = [ 2**x for x in range(10) ]\n",
    "print(squared_list)\n",
    "\n",
    "# Beispiel mit einer bereits existierenden Liste\n",
    "nums = [1,2,3,4,5,6,7,8,9]\n",
    "squ_list = [num**2 for num in nums]\n",
    "print(squ_list)"
   ]
  },
  {
   "attachments": {
    "image.png": {
     "image/png": "[encoded data removed]"
    }
   },
   "cell_type": "markdown",
   "metadata": {},
   "source": [
    "![image.png](attachment:image.png)"
   ]
  },
  {
   "cell_type": "code",
   "execution_count": 6,
   "metadata": {},
   "outputs": [
    {
     "name": "stdout",
     "output_type": "stream",
     "text": [
      "[2, 8, 34, 48]\n"
     ]
    }
   ],
   "source": [
    "# Aufgabe\n",
    "# aus der folgenden Liste soll eine neue Liste erstellt werden, in der nur die geraden Zahlen enthalten sind\n",
    "numberz = [1, 1, 2, 3, 5, 8, 13, 21, 34, 48, 55]\n",
    "\n",
    "even_nums = [num for num in numberz if num % 2 == 0]\n",
    "print(even_nums)\n"
   ]
  },
  {
   "cell_type": "code",
   "execution_count": 5,
   "metadata": {},
   "outputs": [
    {
     "name": "stdout",
     "output_type": "stream",
     "text": [
      "6\n",
      "7\n",
      "8\n",
      "9\n"
     ]
    },
    {
     "data": {
      "text/plain": [
       "[None, None, None, None]"
      ]
     },
     "execution_count": 5,
     "metadata": {},
     "output_type": "execute_result"
    }
   ],
   "source": [
    "# Hinzufügen von Bedingungen\n",
    "eggs = 5\n",
    "[print(spam) for spam in range(10) if spam > eggs]\n"
   ]
  },
  {
   "cell_type": "code",
   "execution_count": 23,
   "metadata": {},
   "outputs": [
    {
     "name": "stdout",
     "output_type": "stream",
     "text": [
      "[9, 8, 7, 6, 5, 4, 3, 2, 1]\n"
     ]
    }
   ],
   "source": [
    "# generiert die Werte zwischen 1 - 9 aus einem Range (0 - 99) absteigend sortiert\n",
    "lst = [x for x in range(99, 0,-1) if x > 0 and x < 10]\n",
    "\n",
    "print(lst)"
   ]
  },
  {
   "cell_type": "code",
   "execution_count": 22,
   "metadata": {},
   "outputs": [
    {
     "name": "stdout",
     "output_type": "stream",
     "text": [
      "[0, 42, 84, 126, 168]\n"
     ]
    }
   ],
   "source": [
    "# generiert die Werte von 0 bis 200 die durch 42 teilbar sind\n",
    "lst42 = []\n",
    "[lst42.append(x) for x in range(0,201) if x % 42 == 0]\n",
    "\n",
    "print(lst42)"
   ]
  },
  {
   "cell_type": "code",
   "execution_count": 37,
   "metadata": {},
   "outputs": [
    {
     "name": "stdout",
     "output_type": "stream",
     "text": [
      "[1, 0, 1, 0, 1, 0, 1, 0, 1, 0]\n",
      "[1, 0, 1, 0, 1, 0, 1, 0, 1, 0]\n"
     ]
    }
   ],
   "source": [
    "# Befüllt eine Liste mit 1en, wenn der Wert im Range gerade ist\n",
    "# befüllt die Liste mit 0en, wenn der Wert ungerade gerade ist\n",
    "eine_liste = []\n",
    "for x in range(10):\n",
    "    eine_liste.append(1 if x % 2 == 0 else 0)\n",
    "\n",
    "print(eine_liste)\n",
    "\n",
    "# hier als List Comprehension\n",
    "any_list = [1 if x % 2 == 0 else 0 for x in range(10)]\n",
    "print(any_list)\n"
   ]
  },
  {
   "cell_type": "code",
   "execution_count": 39,
   "metadata": {},
   "outputs": [
    {
     "name": "stdout",
     "output_type": "stream",
     "text": [
      "['-', '-', '-', '-', '-', '-', '-', '-']\n",
      "['-', '-', '-', '-', '-', '-', '-', '-']\n",
      "['-', '-', '-', '-', '-', '-', '-', '-']\n",
      "['-', '-', '-', '-', '-', '-', '-', '-']\n",
      "['-', '-', '-', '-', '-', '-', '-', '-']\n",
      "['-', '-', '-', '-', '-', '-', '-', '-']\n",
      "['-', '-', '-', '-', '-', '-', '-', '-']\n",
      "['-', '-', '-', '-', '-', '-', '-', '-']\n"
     ]
    },
    {
     "data": {
      "text/plain": [
       "[[None, None, None, None, None, None, None, None]]"
      ]
     },
     "execution_count": 39,
     "metadata": {},
     "output_type": "execute_result"
    }
   ],
   "source": [
    "# generiert ein Schachbrett\n",
    "board = []\n",
    "EMPTY = \"-\"\n",
    "\n",
    "# for i in range(8):\n",
    "#     row = [empty for i in range(8)]\n",
    "#     board.append(row)\n",
    "# als List Comprehension\n",
    "board = [[EMPTY for i in range(8)] for j in range(8)]\n",
    "\n",
    "# ROOK = \"ROOK\"\n",
    "# board = []\n",
    "\n",
    "[[print(board[i]) for i in range(8)]]"
   ]
  },
  {
   "cell_type": "code",
   "execution_count": 3,
   "metadata": {},
   "outputs": [
    {
     "name": "stdout",
     "output_type": "stream",
     "text": [
      "[2, 4, 6, 8]\n"
     ]
    }
   ],
   "source": [
    "doubled_list = [n*2 for n in range(1,5)]\n",
    "print(doubled_list)"
   ]
  },
  {
   "cell_type": "code",
   "execution_count": 4,
   "metadata": {},
   "outputs": [
    {
     "name": "stdout",
     "output_type": "stream",
     "text": [
      "['Alex', 'Jay', 'Ryu', 'Beth']\n",
      "['CAROLINE', 'FREDDY']\n"
     ]
    }
   ],
   "source": [
    "names = [\"Alex\",\"Jay\",\"Felix\",\"Ryu\",\"Caroline\",\"Freddy\",\"Beth\"]\n",
    "short_names = [name for name in names if len(name) < 5]\n",
    "print(short_names)\n",
    "long_names = [name.upper() for name in names if len(name)>5]\n",
    "\n",
    "print(long_names)"
   ]
  }
 ],
 "metadata": {
  "kernelspec": {
   "display_name": "Python 3.10.2 64-bit",
   "language": "python",
   "name": "python3"
  },
  "language_info": {
   "codemirror_mode": {
    "name": "ipython",
    "version": 3
   },
   "file_extension": ".py",
   "mimetype": "text/x-python",
   "name": "python",
   "nbconvert_exporter": "python",
   "pygments_lexer": "ipython3",
   "version": "3.10.2"
  },
  "orig_nbformat": 4,
  "vscode": {
   "interpreter": {
    "hash": "199d4d96980d3c77fd685aeae9f69782f382d18d101d3d05db881b6799e10f7f"
   }
  }
 },
 "nbformat": 4,
 "nbformat_minor": 2
}
