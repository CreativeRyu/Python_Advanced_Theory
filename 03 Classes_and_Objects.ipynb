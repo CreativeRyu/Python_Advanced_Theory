{
 "cells": [
  {
   "attachments": {},
   "cell_type": "markdown",
   "metadata": {},
   "source": [
    "# **Object Oriented Programming**"
   ]
  },
  {
   "cell_type": "code",
   "execution_count": 8,
   "metadata": {},
   "outputs": [
    {
     "name": "stdout",
     "output_type": "stream",
     "text": [
      "90\n",
      "40\n",
      "The Monster has attacked.\n",
      "Damage was 100.\n",
      "20\n",
      "The monster has moved with a speed of 70\n"
     ]
    }
   ],
   "source": [
    "class Monster:\n",
    "    # attributes\n",
    "    health = 90\n",
    "    energy = 40\n",
    "    \n",
    "    # methods\n",
    "    def attack(self, damage):\n",
    "        print(\"The Monster has attacked.\")\n",
    "        print(f\"Damage was {damage}.\")\n",
    "        self.energy -= 20\n",
    "        print(self.energy)\n",
    "\n",
    "    # erstelle eine weitere Methode move()\n",
    "    def move(self, speed):\n",
    "        print(f\"The monster has moved with a speed of {speed}\")\n",
    "\n",
    "monster = Monster()\n",
    "print(monster.health)\n",
    "print(monster.energy)\n",
    "monster.attack(100)\n",
    "monster.move(70)\n",
    "\n",
    "# monster1 oder monster2 könnte man an dieser Stelle noch zeigen"
   ]
  },
  {
   "cell_type": "code",
   "execution_count": 6,
   "metadata": {},
   "outputs": [
    {
     "name": "stdout",
     "output_type": "stream",
     "text": [
      "The Monster was created.\n",
      "A Monster with health of 50 and energy like 100\n"
     ]
    }
   ],
   "source": [
    "class MonsterCustomInit:\n",
    "    \n",
    "    def __init__(self, health, energy):\n",
    "        # so können die attribute dynamisch\n",
    "        # bei der Erstellung des Objektes generiert werden\n",
    "        self.health = health\n",
    "        self.energy = energy\n",
    "        print(\"The Monster was created.\")\n",
    "    \n",
    "    def __str__(self):\n",
    "        return f\"A Monster with health of {self.health} and energy like {self.energy}\"\n",
    "    \n",
    "    # methods\n",
    "    def attack(self, damage):\n",
    "        print(\"The Monster has attacked.\")\n",
    "        print(f\"Damage was {damage}.\")\n",
    "        self.energy -= 20\n",
    "        print(self.energy)\n",
    "\n",
    "    # erstelle eine weitere Methode move()\n",
    "    def move(self, speed):\n",
    "        print(f\"The monster has moved with a speed of {speed}\")\n",
    "\n",
    "monsterCustom = MonsterCustomInit(health = 50, energy = 100)\n",
    "# Print sucht automatisch nach einem String, den es von der __str__() Methode bekommt\n",
    "print(monsterCustom) "
   ]
  },
  {
   "cell_type": "code",
   "execution_count": 15,
   "metadata": {},
   "outputs": [
    {
     "name": "stdout",
     "output_type": "stream",
     "text": [
      "cheat9 though\n"
     ]
    }
   ],
   "source": [
    "# Exercise\n",
    "# creatte a Monster Class with aparamter called func, store this func as a parameter\n",
    "class specialMonster:\n",
    "    def __init__(self, func):\n",
    "        self.func = func\n",
    "\n",
    "# create another class, called Attacks, that has 4 methods:\n",
    "class Attacks:\n",
    "    \n",
    "    def bite(self):\n",
    "        print(\"Biteattaaack\")\n",
    "    \n",
    "    def strike(self):\n",
    "        print(\"Strike\")\n",
    "    \n",
    "    def slash(self):\n",
    "        print(\"slaaash\")\n",
    "    \n",
    "    def kick(self):\n",
    "        print(\"cheat9 though\")\n",
    "\n",
    "# create a Monster Object and give it one of the attack methods from the attack class\n",
    "special_monster = specialMonster(func = Attacks().kick) \n",
    "# hier muss die klammer gesetzt werden, da kein Objekt von Attacks erstellt wurde\n",
    "# oder einfach ein object von Attacks() erstellen\n",
    "special_monster.func()"
   ]
  }
 ],
 "metadata": {
  "kernelspec": {
   "display_name": "Python 3",
   "language": "python",
   "name": "python3"
  },
  "language_info": {
   "codemirror_mode": {
    "name": "ipython",
    "version": 3
   },
   "file_extension": ".py",
   "mimetype": "text/x-python",
   "name": "python",
   "nbconvert_exporter": "python",
   "pygments_lexer": "ipython3",
   "version": "3.10.6"
  },
  "orig_nbformat": 4
 },
 "nbformat": 4,
 "nbformat_minor": 2
}
