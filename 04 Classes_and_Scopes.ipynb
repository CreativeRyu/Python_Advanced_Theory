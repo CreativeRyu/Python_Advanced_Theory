{
 "cells": [
  {
   "attachments": {},
   "cell_type": "markdown",
   "metadata": {},
   "source": [
    "# **Classes and Scopes**"
   ]
  },
  {
   "cell_type": "code",
   "execution_count": 1,
   "metadata": {},
   "outputs": [
    {
     "name": "stdout",
     "output_type": "stream",
     "text": [
      "10\n"
     ]
    },
    {
     "ename": "UnboundLocalError",
     "evalue": "local variable 'health' referenced before assignment",
     "output_type": "error",
     "traceback": [
      "\u001b[1;31m---------------------------------------------------------------------------\u001b[0m",
      "\u001b[1;31mUnboundLocalError\u001b[0m                         Traceback (most recent call last)",
      "Cell \u001b[1;32mIn[1], line 6\u001b[0m\n\u001b[0;32m      4\u001b[0m health \u001b[39m=\u001b[39m \u001b[39m10\u001b[39m\n\u001b[0;32m      5\u001b[0m \u001b[39mprint\u001b[39m(health)\n\u001b[1;32m----> 6\u001b[0m update_health(\u001b[39m20\u001b[39;49m)\n\u001b[0;32m      7\u001b[0m \u001b[39mprint\u001b[39m(health)\n",
      "Cell \u001b[1;32mIn[1], line 2\u001b[0m, in \u001b[0;36mupdate_health\u001b[1;34m(amount)\u001b[0m\n\u001b[0;32m      1\u001b[0m \u001b[39mdef\u001b[39;00m \u001b[39mupdate_health\u001b[39m(amount):\n\u001b[1;32m----> 2\u001b[0m     health \u001b[39m+\u001b[39m\u001b[39m=\u001b[39m amount\n",
      "\u001b[1;31mUnboundLocalError\u001b[0m: local variable 'health' referenced before assignment"
     ]
    }
   ],
   "source": [
    "def update_health(amount):\n",
    "    health += amount\n",
    "\n",
    "health = 10\n",
    "print(health)\n",
    "update_health(20)\n",
    "print(health)"
   ]
  },
  {
   "cell_type": "code",
   "execution_count": 2,
   "metadata": {},
   "outputs": [
    {
     "name": "stdout",
     "output_type": "stream",
     "text": [
      "100\n",
      "120\n",
      "60\n"
     ]
    }
   ],
   "source": [
    "class Monster:\n",
    "    def __init__(self, health, energy):\n",
    "        self.health = health\n",
    "        self.energy = energy\n",
    "    \n",
    "    def update_energy(self, amount):\n",
    "        self.energy += amount\n",
    "    # Exercise\n",
    "    def get_damage(self, amount):\n",
    "        self.health -= amount\n",
    "\n",
    "monster = Monster(health = 100, energy = 50)\n",
    "print(monster.health)\n",
    "monster.health += 20\n",
    "monster.update_energy(10)\n",
    "print(monster.health)\n",
    "print(monster.energy)"
   ]
  },
  {
   "cell_type": "code",
   "execution_count": 3,
   "metadata": {},
   "outputs": [
    {
     "name": "stdout",
     "output_type": "stream",
     "text": [
      "120\n",
      "105\n"
     ]
    }
   ],
   "source": [
    "# exercise\n",
    "# TODO 1 create a hero class with two parameters: damage, monster\n",
    "# TODO 2 the Monster class should have a method that lowers the health -> get_damage(amount)\n",
    "# TODO 3 the Hero Class should have an attack Method that calls the get_damage method from the monster\n",
    "\n",
    "class Hero:\n",
    "    def __init__(self, damage, monster):\n",
    "        self.damage = damage\n",
    "        self.monster = monster\n",
    "    \n",
    "    def attack(self):\n",
    "        self.monster.get_damage(self.damage)\n",
    "\n",
    "hero = Hero(damage = 15, monster = monster)\n",
    "print(monster.health)\n",
    "hero.attack()\n",
    "print(monster.health)"
   ]
  }
 ],
 "metadata": {
  "kernelspec": {
   "display_name": "Python 3",
   "language": "python",
   "name": "python3"
  },
  "language_info": {
   "codemirror_mode": {
    "name": "ipython",
    "version": 3
   },
   "file_extension": ".py",
   "mimetype": "text/x-python",
   "name": "python",
   "nbconvert_exporter": "python",
   "pygments_lexer": "ipython3",
   "version": "3.10.2"
  },
  "orig_nbformat": 4
 },
 "nbformat": 4,
 "nbformat_minor": 2
}
