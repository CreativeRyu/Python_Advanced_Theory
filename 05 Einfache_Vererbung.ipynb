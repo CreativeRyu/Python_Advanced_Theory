{
 "cells": [
  {
   "attachments": {},
   "cell_type": "markdown",
   "metadata": {},
   "source": [
    "# **Einfache Vererbung**"
   ]
  },
  {
   "cell_type": "code",
   "execution_count": 18,
   "metadata": {},
   "outputs": [],
   "source": [
    "class Monster:\n",
    "    def __init__(self, health, energy) -> None:\n",
    "        self.health = health\n",
    "        self.energy = energy\n",
    "    \n",
    "    def attack(self, amount):\n",
    "        print(\"The Monster has attacked\")\n",
    "        print(f\"{amount} damage was taken\")\n",
    "        self.energy -= 20\n",
    "    \n",
    "    def move(self, speed):\n",
    "        print(f\"The monster has moved by the speed of {speed}\")"
   ]
  },
  {
   "cell_type": "code",
   "execution_count": 19,
   "metadata": {},
   "outputs": [
    {
     "name": "stdout",
     "output_type": "stream",
     "text": [
      "100\n",
      "The Monster has attacked\n",
      "20 damage was taken\n",
      "The shark has moved by 120\n"
     ]
    }
   ],
   "source": [
    "class Shark(Monster):\n",
    "    def __init__(self, speed, health, energy) -> None:\n",
    "        super().__init__(health, energy)\n",
    "        self.speed = speed\n",
    "    \n",
    "    def bite(self):\n",
    "        print(\"The shark bits\")\n",
    "    \n",
    "    def move(self): # Methode aus der Klasse Monster überlagert bzw. überschrieben\n",
    "        print(f\"The shark has moved by {self.speed}\")\n",
    "\n",
    "shark = Shark(speed = 120, health = 100, energy = 80)\n",
    "print(shark.health)\n",
    "shark.attack(20)\n",
    "shark.move()"
   ]
  },
  {
   "cell_type": "code",
   "execution_count": 21,
   "metadata": {},
   "outputs": [
    {
     "name": "stdout",
     "output_type": "stream",
     "text": [
      "The Scorpion has attacked with poison damage of 50\n"
     ]
    }
   ],
   "source": [
    "# Exercise\n",
    "# create a Scorpion class that inherits from monster\n",
    "# health and energy from the parent\n",
    "# poision_damage attribute\n",
    "# overwrite the damage method to show poison damage\n",
    "\n",
    "class Scorpion(Monster):\n",
    "    def __init__(self, health, energy, poison_damage) -> None:\n",
    "        super().__init__(health, energy)\n",
    "        self.poison_damage = poison_damage\n",
    "    \n",
    "    def attack(self):\n",
    "        print(f\"The Scorpion has attacked with poison damage of {self.poison_damage}\")\n",
    "\n",
    "scorpion = Scorpion(health = 100, energy = 50, poison_damage = 50)\n",
    "scorpion.attack()"
   ]
  }
 ],
 "metadata": {
  "kernelspec": {
   "display_name": "Python 3",
   "language": "python",
   "name": "python3"
  },
  "language_info": {
   "codemirror_mode": {
    "name": "ipython",
    "version": 3
   },
   "file_extension": ".py",
   "mimetype": "text/x-python",
   "name": "python",
   "nbconvert_exporter": "python",
   "pygments_lexer": "ipython3",
   "version": "3.10.2"
  },
  "orig_nbformat": 4
 },
 "nbformat": 4,
 "nbformat_minor": 2
}
