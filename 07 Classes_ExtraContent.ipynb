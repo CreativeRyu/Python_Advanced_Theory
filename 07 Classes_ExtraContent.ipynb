{
 "cells": [
  {
   "attachments": {},
   "cell_type": "markdown",
   "metadata": {},
   "source": [
    "# **Classes Extra Content**"
   ]
  },
  {
   "attachments": {},
   "cell_type": "markdown",
   "metadata": {},
   "source": [
    "### **Private Attributes**"
   ]
  },
  {
   "cell_type": "code",
   "execution_count": 2,
   "metadata": {},
   "outputs": [],
   "source": [
    "class Monster:\n",
    "    def __init__(self, health, energy):\n",
    "        self.health = health\n",
    "        self.energy = energy\n",
    "        \n",
    "        # private Attributes\n",
    "        self._id = 5 # underscore per dokumentation ist ein privates attribut, ich kann aber dennoch drauf zugreifen\n",
    "\n",
    "monster = Monster(20,10)"
   ]
  },
  {
   "attachments": {},
   "cell_type": "markdown",
   "metadata": {},
   "source": [
    "### **hasattr and setattr**"
   ]
  },
  {
   "cell_type": "code",
   "execution_count": 3,
   "metadata": {},
   "outputs": [
    {
     "name": "stdout",
     "output_type": "stream",
     "text": [
      "the monster has 20 health\n"
     ]
    }
   ],
   "source": [
    "if hasattr(monster, \"health\"):\n",
    "    print(f\"the monster has {monster.health} health\")"
   ]
  },
  {
   "cell_type": "code",
   "execution_count": 4,
   "metadata": {},
   "outputs": [
    {
     "name": "stdout",
     "output_type": "stream",
     "text": [
      "Sword\n"
     ]
    }
   ],
   "source": [
    "setattr(monster, \"weapon\", \"Sword\")\n",
    "print(monster.weapon)"
   ]
  },
  {
   "cell_type": "code",
   "execution_count": 5,
   "metadata": {},
   "outputs": [
    {
     "name": "stdout",
     "output_type": "stream",
     "text": [
      "{'health': 20, 'energy': 10, '_id': 5, 'weapon': 'Axe', 'armor': 'Shield', 'potion': 'mana'}\n"
     ]
    }
   ],
   "source": [
    "new_attributes = ([\"weapon\", \"Axe\"], [\"armor\", \"Shield\"], [\"potion\", \"mana\"])\n",
    "for attr, value in new_attributes:\n",
    "    setattr(monster, attr, value)\n",
    "\n",
    "print(vars(monster))"
   ]
  }
 ],
 "metadata": {
  "kernelspec": {
   "display_name": "Python 3",
   "language": "python",
   "name": "python3"
  },
  "language_info": {
   "codemirror_mode": {
    "name": "ipython",
    "version": 3
   },
   "file_extension": ".py",
   "mimetype": "text/x-python",
   "name": "python",
   "nbconvert_exporter": "python",
   "pygments_lexer": "ipython3",
   "version": "3.10.2"
  },
  "orig_nbformat": 4
 },
 "nbformat": 4,
 "nbformat_minor": 2
}
